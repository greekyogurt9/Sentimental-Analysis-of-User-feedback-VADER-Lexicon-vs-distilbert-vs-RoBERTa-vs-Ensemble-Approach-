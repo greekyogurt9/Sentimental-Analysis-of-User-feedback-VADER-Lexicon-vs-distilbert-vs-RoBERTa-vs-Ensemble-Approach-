{
 "cells": [
  {
   "cell_type": "markdown",
   "id": "9e6d9243",
   "metadata": {},
   "source": [
    "# VADER LEXICON"
   ]
  },
  {
   "cell_type": "markdown",
   "id": "59373ba0",
   "metadata": {},
   "source": [
    "VADER (Valence Aware Dictionary and sEntiment Reasoner) is a lexicon-based sentiment analysis tool designed for social media text, using a predefined dictionary of words with associated sentiment scores. It is particularly effective for short, informal text and can detect the intensity of sentiments, including negations and emoticons."
   ]
  },
  {
   "cell_type": "code",
   "execution_count": 1,
   "id": "2ecfff1a",
   "metadata": {},
   "outputs": [
    {
     "name": "stderr",
     "output_type": "stream",
     "text": [
      "C:\\Users\\*****\\anaconda3\\Lib\\site-packages\\pandas\\core\\arrays\\masked.py:60: UserWarning: Pandas requires version '1.3.6' or newer of 'bottleneck' (version '1.3.5' currently installed).\n",
      "  from pandas.core import (\n"
     ]
    }
   ],
   "source": [
    "import pandas as pd\n",
    "from nltk.sentiment import SentimentIntensityAnalyzer\n",
    "import nltk"
   ]
  },
  {
   "cell_type": "code",
   "execution_count": 2,
   "id": "7b087d10",
   "metadata": {},
   "outputs": [
    {
     "name": "stdout",
     "output_type": "stream",
     "text": [
      "<class 'pandas.core.frame.DataFrame'>\n",
      "RangeIndex: 96 entries, 0 to 95\n",
      "Data columns (total 7 columns):\n",
      " #   Column            Non-Null Count  Dtype  \n",
      "---  ------            --------------  -----  \n",
      " 0   Text              96 non-null     object \n",
      " 1   Source            96 non-null     object \n",
      " 2   Date_Time         96 non-null     object \n",
      " 3   User_ID           96 non-null     object \n",
      " 4   Location          96 non-null     object \n",
      " 5   Sentiment         96 non-null     object \n",
      " 6   Confidence_Score  96 non-null     float64\n",
      "dtypes: float64(1), object(6)\n",
      "memory usage: 5.4+ KB\n"
     ]
    }
   ],
   "source": [
    "df = pd.read_csv(r\"C:\\Users\\*****\\Downloads\\Customer Feedback Dataset - Ideal Output.csv\")\n",
    "df.info()"
   ]
  },
  {
   "cell_type": "code",
   "execution_count": 3,
   "id": "06662dc9",
   "metadata": {},
   "outputs": [
    {
     "name": "stdout",
     "output_type": "stream",
     "text": [
      "<class 'pandas.core.frame.DataFrame'>\n",
      "RangeIndex: 96 entries, 0 to 95\n",
      "Data columns (total 7 columns):\n",
      " #   Column            Non-Null Count  Dtype  \n",
      "---  ------            --------------  -----  \n",
      " 0   Text              96 non-null     object \n",
      " 1   Source            96 non-null     object \n",
      " 2   Date_Time         96 non-null     object \n",
      " 3   User_ID           96 non-null     object \n",
      " 4   Location          96 non-null     object \n",
      " 5   Sentiment         96 non-null     object \n",
      " 6   Confidence_Score  96 non-null     float64\n",
      "dtypes: float64(1), object(6)\n",
      "memory usage: 5.4+ KB\n"
     ]
    }
   ],
   "source": [
    "df.drop_duplicates()\n",
    "df.info()"
   ]
  },
  {
   "cell_type": "markdown",
   "id": "6eaad276",
   "metadata": {},
   "source": [
    "### Since we are focusing on Sentimental Analysis, Ignore data cleaning for now."
   ]
  },
  {
   "cell_type": "code",
   "execution_count": 4,
   "id": "ba9a468c",
   "metadata": {},
   "outputs": [
    {
     "name": "stderr",
     "output_type": "stream",
     "text": [
      "[nltk_data] Downloading package vader_lexicon to\n",
      "[nltk_data]     C:\\Users\\*****\\AppData\\Roaming\\nltk_data...\n",
      "[nltk_data]   Package vader_lexicon is already up-to-date!\n"
     ]
    },
    {
     "data": {
      "text/plain": [
       "True"
      ]
     },
     "execution_count": 4,
     "metadata": {},
     "output_type": "execute_result"
    }
   ],
   "source": [
    "# Download VADER Lexicon\n",
    "nltk.download('vader_lexicon')"
   ]
  },
  {
   "cell_type": "code",
   "execution_count": 5,
   "id": "80c41081",
   "metadata": {},
   "outputs": [],
   "source": [
    "sia = SentimentIntensityAnalyzer()"
   ]
  },
  {
   "cell_type": "code",
   "execution_count": 6,
   "id": "16b5e71a",
   "metadata": {},
   "outputs": [],
   "source": [
    "# Function to get sentiment and confidence score\n",
    "def get_sentiment(text):\n",
    "    scores = sia.polarity_scores(text)\n",
    "    compound = scores['compound']\n",
    "    \n",
    "    # Assign sentiment label\n",
    "    if compound >= 0.05:\n",
    "        sentiment = \"Positive\"\n",
    "    elif compound <= -0.05:\n",
    "        sentiment = \"Negative\"\n",
    "    else:\n",
    "        sentiment = \"Neutral\"\n",
    "    \n",
    "    # Confidence score (absolute value of compound)\n",
    "    confidence = abs(compound)\n",
    "    \n",
    "    return sentiment, confidence"
   ]
  },
  {
   "cell_type": "code",
   "execution_count": 7,
   "id": "d262efe6",
   "metadata": {},
   "outputs": [
    {
     "data": {
      "text/html": [
       "<div>\n",
       "<style scoped>\n",
       "    .dataframe tbody tr th:only-of-type {\n",
       "        vertical-align: middle;\n",
       "    }\n",
       "\n",
       "    .dataframe tbody tr th {\n",
       "        vertical-align: top;\n",
       "    }\n",
       "\n",
       "    .dataframe thead th {\n",
       "        text-align: right;\n",
       "    }\n",
       "</style>\n",
       "<table border=\"1\" class=\"dataframe\">\n",
       "  <thead>\n",
       "    <tr style=\"text-align: right;\">\n",
       "      <th></th>\n",
       "      <th>Text</th>\n",
       "      <th>Source</th>\n",
       "      <th>Date_Time</th>\n",
       "      <th>User_ID</th>\n",
       "      <th>Location</th>\n",
       "      <th>Sentiment</th>\n",
       "      <th>Confidence_Score</th>\n",
       "    </tr>\n",
       "  </thead>\n",
       "  <tbody>\n",
       "    <tr>\n",
       "      <th>0</th>\n",
       "      <td>I love this product!</td>\n",
       "      <td>Twitter</td>\n",
       "      <td>15-06-2023 09:23</td>\n",
       "      <td>@user123</td>\n",
       "      <td>New York</td>\n",
       "      <td>Positive</td>\n",
       "      <td>0.85</td>\n",
       "    </tr>\n",
       "    <tr>\n",
       "      <th>1</th>\n",
       "      <td>The service was terrible.</td>\n",
       "      <td>Yelp Reviews</td>\n",
       "      <td>15-06-2023 11:45</td>\n",
       "      <td>user456</td>\n",
       "      <td>Los Angeles</td>\n",
       "      <td>Negative</td>\n",
       "      <td>0.65</td>\n",
       "    </tr>\n",
       "    <tr>\n",
       "      <th>2</th>\n",
       "      <td>This movie is amazing!</td>\n",
       "      <td>IMDb</td>\n",
       "      <td>15-06-2023 14:10</td>\n",
       "      <td>moviefan789</td>\n",
       "      <td>London</td>\n",
       "      <td>Positive</td>\n",
       "      <td>0.92</td>\n",
       "    </tr>\n",
       "    <tr>\n",
       "      <th>3</th>\n",
       "      <td>I'm so disappointed with their customer support.</td>\n",
       "      <td>Online Forum</td>\n",
       "      <td>15-06-2023 17:35</td>\n",
       "      <td>forumuser1</td>\n",
       "      <td>Toronto</td>\n",
       "      <td>Negative</td>\n",
       "      <td>0.78</td>\n",
       "    </tr>\n",
       "    <tr>\n",
       "      <th>4</th>\n",
       "      <td>Just had the best meal of my life!</td>\n",
       "      <td>TripAdvisor</td>\n",
       "      <td>16-06-2023 08:50</td>\n",
       "      <td>foodie22</td>\n",
       "      <td>Paris</td>\n",
       "      <td>Positive</td>\n",
       "      <td>0.88</td>\n",
       "    </tr>\n",
       "    <tr>\n",
       "      <th>5</th>\n",
       "      <td>The quality of this product is subpar.</td>\n",
       "      <td>Amazon Reviews</td>\n",
       "      <td>16-06-2023 10:15</td>\n",
       "      <td>shopper123</td>\n",
       "      <td>San Francisco</td>\n",
       "      <td>Negative</td>\n",
       "      <td>0.72</td>\n",
       "    </tr>\n",
       "    <tr>\n",
       "      <th>6</th>\n",
       "      <td>I can't stop listening to this song. It's incr...</td>\n",
       "      <td>Spotify</td>\n",
       "      <td>16-06-2023 13:40</td>\n",
       "      <td>musiclover456</td>\n",
       "      <td>Berlin</td>\n",
       "      <td>Positive</td>\n",
       "      <td>0.91</td>\n",
       "    </tr>\n",
       "    <tr>\n",
       "      <th>7</th>\n",
       "      <td>Their website is so user-friendly. Love it!</td>\n",
       "      <td>Website Testimonial</td>\n",
       "      <td>16-06-2023 16:05</td>\n",
       "      <td>testimonialuser1</td>\n",
       "      <td>Sydney</td>\n",
       "      <td>Positive</td>\n",
       "      <td>0.87</td>\n",
       "    </tr>\n",
       "    <tr>\n",
       "      <th>8</th>\n",
       "      <td>I loved the movie! It was fantastic!</td>\n",
       "      <td>IMDb</td>\n",
       "      <td>02-07-2023 09:12</td>\n",
       "      <td>user123</td>\n",
       "      <td>New York</td>\n",
       "      <td>Positive</td>\n",
       "      <td>0.92</td>\n",
       "    </tr>\n",
       "    <tr>\n",
       "      <th>9</th>\n",
       "      <td>The customer service was terrible.</td>\n",
       "      <td>Yelp Reviews</td>\n",
       "      <td>02-07-2023 10:45</td>\n",
       "      <td>user456</td>\n",
       "      <td>Los Angeles</td>\n",
       "      <td>Negative</td>\n",
       "      <td>0.65</td>\n",
       "    </tr>\n",
       "  </tbody>\n",
       "</table>\n",
       "</div>"
      ],
      "text/plain": [
       "                                                Text               Source  \\\n",
       "0                               I love this product!              Twitter   \n",
       "1                          The service was terrible.         Yelp Reviews   \n",
       "2                             This movie is amazing!                 IMDb   \n",
       "3   I'm so disappointed with their customer support.         Online Forum   \n",
       "4                 Just had the best meal of my life!          TripAdvisor   \n",
       "5             The quality of this product is subpar.       Amazon Reviews   \n",
       "6  I can't stop listening to this song. It's incr...              Spotify   \n",
       "7        Their website is so user-friendly. Love it!  Website Testimonial   \n",
       "8               I loved the movie! It was fantastic!                 IMDb   \n",
       "9                 The customer service was terrible.         Yelp Reviews   \n",
       "\n",
       "          Date_Time           User_ID       Location Sentiment  \\\n",
       "0  15-06-2023 09:23          @user123       New York  Positive   \n",
       "1  15-06-2023 11:45           user456    Los Angeles  Negative   \n",
       "2  15-06-2023 14:10       moviefan789         London  Positive   \n",
       "3  15-06-2023 17:35        forumuser1        Toronto  Negative   \n",
       "4  16-06-2023 08:50          foodie22          Paris  Positive   \n",
       "5  16-06-2023 10:15        shopper123  San Francisco  Negative   \n",
       "6  16-06-2023 13:40     musiclover456         Berlin  Positive   \n",
       "7  16-06-2023 16:05  testimonialuser1         Sydney  Positive   \n",
       "8  02-07-2023 09:12           user123       New York  Positive   \n",
       "9  02-07-2023 10:45           user456    Los Angeles  Negative   \n",
       "\n",
       "   Confidence_Score  \n",
       "0              0.85  \n",
       "1              0.65  \n",
       "2              0.92  \n",
       "3              0.78  \n",
       "4              0.88  \n",
       "5              0.72  \n",
       "6              0.91  \n",
       "7              0.87  \n",
       "8              0.92  \n",
       "9              0.65  "
      ]
     },
     "execution_count": 7,
     "metadata": {},
     "output_type": "execute_result"
    }
   ],
   "source": [
    "df.head(10)"
   ]
  },
  {
   "cell_type": "code",
   "execution_count": 8,
   "id": "8c62fb67",
   "metadata": {},
   "outputs": [],
   "source": [
    "# Apply function to DataFrame\n",
    "df[['New_Sentiment', 'New_Confidence']] = df['Text'].apply(lambda x: pd.Series(get_sentiment(x)))"
   ]
  },
  {
   "cell_type": "code",
   "execution_count": 9,
   "id": "5b59f226",
   "metadata": {},
   "outputs": [
    {
     "name": "stdout",
     "output_type": "stream",
     "text": [
      "                                               Text        Source  \\\n",
      "0                              I love this product!       Twitter   \n",
      "1                         The service was terrible.  Yelp Reviews   \n",
      "2                            This movie is amazing!          IMDb   \n",
      "3  I'm so disappointed with their customer support.  Online Forum   \n",
      "4                Just had the best meal of my life!   TripAdvisor   \n",
      "\n",
      "          Date_Time      User_ID     Location Sentiment  Confidence_Score  \\\n",
      "0  15-06-2023 09:23     @user123     New York  Positive              0.85   \n",
      "1  15-06-2023 11:45      user456  Los Angeles  Negative              0.65   \n",
      "2  15-06-2023 14:10  moviefan789       London  Positive              0.92   \n",
      "3  15-06-2023 17:35   forumuser1      Toronto  Negative              0.78   \n",
      "4  16-06-2023 08:50     foodie22        Paris  Positive              0.88   \n",
      "\n",
      "  New_Sentiment  New_Confidence  \n",
      "0      Positive          0.6696  \n",
      "1      Negative          0.4767  \n",
      "2      Positive          0.6239  \n",
      "3      Negative          0.1761  \n",
      "4      Positive          0.6696  \n"
     ]
    }
   ],
   "source": [
    "# Display updated DataFrame\n",
    "print(df.head())"
   ]
  },
  {
   "cell_type": "markdown",
   "id": "cae1864d",
   "metadata": {},
   "source": [
    "'Sentiment' column is given with the dataset which is our ideal output where as 'New_Sentiment' is given by VADER"
   ]
  },
  {
   "cell_type": "code",
   "execution_count": 10,
   "id": "377f5df3",
   "metadata": {},
   "outputs": [
    {
     "data": {
      "text/html": [
       "<div>\n",
       "<style scoped>\n",
       "    .dataframe tbody tr th:only-of-type {\n",
       "        vertical-align: middle;\n",
       "    }\n",
       "\n",
       "    .dataframe tbody tr th {\n",
       "        vertical-align: top;\n",
       "    }\n",
       "\n",
       "    .dataframe thead th {\n",
       "        text-align: right;\n",
       "    }\n",
       "</style>\n",
       "<table border=\"1\" class=\"dataframe\">\n",
       "  <thead>\n",
       "    <tr style=\"text-align: right;\">\n",
       "      <th></th>\n",
       "      <th>Text</th>\n",
       "      <th>Sentiment</th>\n",
       "      <th>New_Sentiment</th>\n",
       "    </tr>\n",
       "  </thead>\n",
       "  <tbody>\n",
       "    <tr>\n",
       "      <th>5</th>\n",
       "      <td>The quality of this product is subpar.</td>\n",
       "      <td>Negative</td>\n",
       "      <td>Neutral</td>\n",
       "    </tr>\n",
       "    <tr>\n",
       "      <th>21</th>\n",
       "      <td>The customer service at this store is top-notch.</td>\n",
       "      <td>Positive</td>\n",
       "      <td>Neutral</td>\n",
       "    </tr>\n",
       "    <tr>\n",
       "      <th>30</th>\n",
       "      <td>The product I ordered never arrived. Terrible ...</td>\n",
       "      <td>Negative</td>\n",
       "      <td>Positive</td>\n",
       "    </tr>\n",
       "    <tr>\n",
       "      <th>31</th>\n",
       "      <td>I can't get enough of this band. Their music i...</td>\n",
       "      <td>Positive</td>\n",
       "      <td>Neutral</td>\n",
       "    </tr>\n",
       "    <tr>\n",
       "      <th>36</th>\n",
       "      <td>The customer service at this store is exceptio...</td>\n",
       "      <td>Positive</td>\n",
       "      <td>Neutral</td>\n",
       "    </tr>\n",
       "    <tr>\n",
       "      <th>38</th>\n",
       "      <td>The live concert was electrifying! The band's ...</td>\n",
       "      <td>Positive</td>\n",
       "      <td>Negative</td>\n",
       "    </tr>\n",
       "    <tr>\n",
       "      <th>54</th>\n",
       "      <td>The concert was mind-blowing! The band knows h...</td>\n",
       "      <td>Positive</td>\n",
       "      <td>Neutral</td>\n",
       "    </tr>\n",
       "    <tr>\n",
       "      <th>59</th>\n",
       "      <td>The website loading speed is frustratingly slo...</td>\n",
       "      <td>Negative</td>\n",
       "      <td>Neutral</td>\n",
       "    </tr>\n",
       "    <tr>\n",
       "      <th>65</th>\n",
       "      <td>The product I ordered never arrived. Poor cust...</td>\n",
       "      <td>Negative</td>\n",
       "      <td>Positive</td>\n",
       "    </tr>\n",
       "    <tr>\n",
       "      <th>69</th>\n",
       "      <td>The website navigation is smooth and intuitive...</td>\n",
       "      <td>Positive</td>\n",
       "      <td>Neutral</td>\n",
       "    </tr>\n",
       "    <tr>\n",
       "      <th>72</th>\n",
       "      <td>This book kept me hooked from start to finish....</td>\n",
       "      <td>Positive</td>\n",
       "      <td>Neutral</td>\n",
       "    </tr>\n",
       "    <tr>\n",
       "      <th>78</th>\n",
       "      <td>The website loading speed is frustratingly slo...</td>\n",
       "      <td>Negative</td>\n",
       "      <td>Neutral</td>\n",
       "    </tr>\n",
       "    <tr>\n",
       "      <th>84</th>\n",
       "      <td>The quality of this product is subpar.</td>\n",
       "      <td>Negative</td>\n",
       "      <td>Neutral</td>\n",
       "    </tr>\n",
       "  </tbody>\n",
       "</table>\n",
       "</div>"
      ],
      "text/plain": [
       "                                                 Text Sentiment New_Sentiment\n",
       "5              The quality of this product is subpar.  Negative       Neutral\n",
       "21   The customer service at this store is top-notch.  Positive       Neutral\n",
       "30  The product I ordered never arrived. Terrible ...  Negative      Positive\n",
       "31  I can't get enough of this band. Their music i...  Positive       Neutral\n",
       "36  The customer service at this store is exceptio...  Positive       Neutral\n",
       "38  The live concert was electrifying! The band's ...  Positive      Negative\n",
       "54  The concert was mind-blowing! The band knows h...  Positive       Neutral\n",
       "59  The website loading speed is frustratingly slo...  Negative       Neutral\n",
       "65  The product I ordered never arrived. Poor cust...  Negative      Positive\n",
       "69  The website navigation is smooth and intuitive...  Positive       Neutral\n",
       "72  This book kept me hooked from start to finish....  Positive       Neutral\n",
       "78  The website loading speed is frustratingly slo...  Negative       Neutral\n",
       "84             The quality of this product is subpar.  Negative       Neutral"
      ]
     },
     "execution_count": 10,
     "metadata": {},
     "output_type": "execute_result"
    }
   ],
   "source": [
    "df[df['Sentiment'] != df['New_Sentiment']][['Text','Sentiment','New_Sentiment']]"
   ]
  },
  {
   "cell_type": "code",
   "execution_count": 11,
   "id": "0df66b07",
   "metadata": {},
   "outputs": [
    {
     "data": {
      "text/plain": [
       "11"
      ]
     },
     "execution_count": 11,
     "metadata": {},
     "output_type": "execute_result"
    }
   ],
   "source": [
    "df[df['Sentiment'] != df['New_Sentiment']]['Text'].nunique()"
   ]
  },
  {
   "cell_type": "markdown",
   "id": "30e3ee9e",
   "metadata": {},
   "source": [
    "### 11 out of 96 are wrongly tagged so, lets try something better than vader."
   ]
  },
  {
   "cell_type": "code",
   "execution_count": null,
   "id": "113cd07c",
   "metadata": {},
   "outputs": [],
   "source": []
  },
  {
   "cell_type": "code",
   "execution_count": null,
   "id": "7f577e0b",
   "metadata": {},
   "outputs": [],
   "source": []
  },
  {
   "cell_type": "code",
   "execution_count": null,
   "id": "a9fc0e4d",
   "metadata": {},
   "outputs": [],
   "source": []
  },
  {
   "cell_type": "markdown",
   "id": "5cfa06e5",
   "metadata": {},
   "source": [
    "# Distilbert from Hugging face"
   ]
  },
  {
   "cell_type": "code",
   "execution_count": 13,
   "id": "2f776d2d",
   "metadata": {},
   "outputs": [
    {
     "name": "stdout",
     "output_type": "stream",
     "text": [
      "Requirement already satisfied: transformers in c:\\users\\*****\\anaconda3\\lib\\site-packages (4.48.1)"
     ]
    },
    {
     "name": "stderr",
     "output_type": "stream",
     "text": [
      "WARNING: Ignoring invalid distribution ~onttools (C:\\Users\\*****\\anaconda3\\Lib\\site-packages)\n",
      "WARNING: Ignoring invalid distribution ~onttools (C:\\Users\\*****\\anaconda3\\Lib\\site-packages)\n",
      "WARNING: Ignoring invalid distribution ~onttools (C:\\Users\\*****\\anaconda3\\Lib\\site-packages)\n",
      "\n",
      "[notice] A new release of pip is available: 24.3.1 -> 25.0.1\n",
      "[notice] To update, run: python.exe -m pip install --upgrade pip\n"
     ]
    },
    {
     "name": "stdout",
     "output_type": "stream",
     "text": [
      "\n",
      "Requirement already satisfied: torch in c:\\users\\*****\\anaconda3\\lib\\site-packages (2.5.1)\n",
      "Requirement already satisfied: pandas in c:\\users\\*****\\anaconda3\\lib\\site-packages (2.2.3)\n",
      "Requirement already satisfied: filelock in c:\\users\\*****\\anaconda3\\lib\\site-packages (from transformers) (3.9.0)\n",
      "Requirement already satisfied: huggingface-hub<1.0,>=0.24.0 in c:\\users\\*****\\anaconda3\\lib\\site-packages (from transformers) (0.27.1)\n",
      "Requirement already satisfied: numpy>=1.17 in c:\\users\\*****\\anaconda3\\lib\\site-packages (from transformers) (1.26.4)\n",
      "Requirement already satisfied: packaging>=20.0 in c:\\users\\*****\\anaconda3\\lib\\site-packages (from transformers) (24.2)\n",
      "Requirement already satisfied: pyyaml>=5.1 in c:\\users\\*****\\anaconda3\\lib\\site-packages (from transformers) (6.0)\n",
      "Requirement already satisfied: regex!=2019.12.17 in c:\\users\\*****\\anaconda3\\lib\\site-packages (from transformers) (2022.7.9)\n",
      "Requirement already satisfied: requests in c:\\users\\*****\\anaconda3\\lib\\site-packages (from transformers) (2.31.0)\n",
      "Requirement already satisfied: tokenizers<0.22,>=0.21 in c:\\users\\*****\\anaconda3\\lib\\site-packages (from transformers) (0.21.0)\n",
      "Requirement already satisfied: safetensors>=0.4.1 in c:\\users\\*****\\anaconda3\\lib\\site-packages (from transformers) (0.5.2)\n",
      "Requirement already satisfied: tqdm>=4.27 in c:\\users\\*****\\anaconda3\\lib\\site-packages (from transformers) (4.65.0)\n",
      "Requirement already satisfied: typing-extensions>=4.8.0 in c:\\users\\*****\\anaconda3\\lib\\site-packages (from torch) (4.12.2)\n",
      "Requirement already satisfied: networkx in c:\\users\\*****\\anaconda3\\lib\\site-packages (from torch) (3.1)\n",
      "Requirement already satisfied: jinja2 in c:\\users\\*****\\anaconda3\\lib\\site-packages (from torch) (3.1.2)\n",
      "Requirement already satisfied: fsspec in c:\\users\\*****\\anaconda3\\lib\\site-packages (from torch) (2024.12.0)\n",
      "Requirement already satisfied: sympy==1.13.1 in c:\\users\\*****\\anaconda3\\lib\\site-packages (from torch) (1.13.1)\n",
      "Requirement already satisfied: mpmath<1.4,>=1.1.0 in c:\\users\\*****\\anaconda3\\lib\\site-packages (from sympy==1.13.1->torch) (1.3.0)\n",
      "Requirement already satisfied: python-dateutil>=2.8.2 in c:\\users\\*****\\anaconda3\\lib\\site-packages (from pandas) (2.9.0.post0)\n",
      "Requirement already satisfied: pytz>=2020.1 in c:\\users\\*****\\anaconda3\\lib\\site-packages (from pandas) (2024.2)\n",
      "Requirement already satisfied: tzdata>=2022.7 in c:\\users\\*****\\anaconda3\\lib\\site-packages (from pandas) (2024.2)\n",
      "Requirement already satisfied: six>=1.5 in c:\\users\\*****\\anaconda3\\lib\\site-packages (from python-dateutil>=2.8.2->pandas) (1.16.0)\n",
      "Requirement already satisfied: colorama in c:\\users\\*****\\anaconda3\\lib\\site-packages (from tqdm>=4.27->transformers) (0.4.6)\n",
      "Requirement already satisfied: MarkupSafe>=2.0 in c:\\users\\*****\\anaconda3\\lib\\site-packages (from jinja2->torch) (2.1.1)\n",
      "Requirement already satisfied: charset-normalizer<4,>=2 in c:\\users\\*****\\anaconda3\\lib\\site-packages (from requests->transformers) (2.0.4)\n",
      "Requirement already satisfied: idna<4,>=2.5 in c:\\users\\*****\\anaconda3\\lib\\site-packages (from requests->transformers) (3.4)\n",
      "Requirement already satisfied: urllib3<3,>=1.21.1 in c:\\users\\*****\\anaconda3\\lib\\site-packages (from requests->transformers) (1.26.16)\n",
      "Requirement already satisfied: certifi>=2017.4.17 in c:\\users\\*****\\anaconda3\\lib\\site-packages (from requests->transformers) (2024.8.30)\n"
     ]
    }
   ],
   "source": [
    "!pip install transformers torch pandas"
   ]
  },
  {
   "cell_type": "code",
   "execution_count": 14,
   "id": "cc8b6d24",
   "metadata": {},
   "outputs": [
    {
     "name": "stdout",
     "output_type": "stream",
     "text": [
      "Requirement already satisfied: tf-keras in c:\\users\\*****\\anaconda3\\lib\\site-packages (2.18.0)\n",
      "Requirement already satisfied: tensorflow<2.19,>=2.18 in c:\\users\\*****\\anaconda3\\lib\\site-packages (from tf-keras) (2.18.0)\n",
      "Requirement already satisfied: tensorflow-intel==2.18.0 in c:\\users\\*****\\anaconda3\\lib\\site-packages (from tensorflow<2.19,>=2.18->tf-keras) (2.18.0)\n",
      "Requirement already satisfied: absl-py>=1.0.0 in c:\\users\\*****\\anaconda3\\lib\\site-packages (from tensorflow-intel==2.18.0->tensorflow<2.19,>=2.18->tf-keras) (2.1.0)\n",
      "Requirement already satisfied: astunparse>=1.6.0 in c:\\users\\*****\\anaconda3\\lib\\site-packages (from tensorflow-intel==2.18.0->tensorflow<2.19,>=2.18->tf-keras) (1.6.3)\n",
      "Requirement already satisfied: flatbuffers>=24.3.25 in c:\\users\\*****\\anaconda3\\lib\\site-packages (from tensorflow-intel==2.18.0->tensorflow<2.19,>=2.18->tf-keras) (25.1.24)\n",
      "Requirement already satisfied: gast!=0.5.0,!=0.5.1,!=0.5.2,>=0.2.1 in c:\\users\\*****\\anaconda3\\lib\\site-packages (from tensorflow-intel==2.18.0->tensorflow<2.19,>=2.18->tf-keras) (0.6.0)\n",
      "Requirement already satisfied: google-pasta>=0.1.1 in c:\\users\\*****\\anaconda3\\lib\\site-packages (from tensorflow-intel==2.18.0->tensorflow<2.19,>=2.18->tf-keras) (0.2.0)\n",
      "Requirement already satisfied: libclang>=13.0.0 in c:\\users\\*****\\anaconda3\\lib\\site-packages (from tensorflow-intel==2.18.0->tensorflow<2.19,>=2.18->tf-keras) (18.1.1)\n",
      "Requirement already satisfied: opt-einsum>=2.3.2 in c:\\users\\*****\\anaconda3\\lib\\site-packages (from tensorflow-intel==2.18.0->tensorflow<2.19,>=2.18->tf-keras) (3.4.0)\n",
      "Requirement already satisfied: packaging in c:\\users\\*****\\anaconda3\\lib\\site-packages (from tensorflow-intel==2.18.0->tensorflow<2.19,>=2.18->tf-keras) (24.2)\n",
      "Requirement already satisfied: protobuf!=4.21.0,!=4.21.1,!=4.21.2,!=4.21.3,!=4.21.4,!=4.21.5,<6.0.0dev,>=3.20.3 in c:\\users\\*****\\anaconda3\\lib\\site-packages (from tensorflow-intel==2.18.0->tensorflow<2.19,>=2.18->tf-keras) (5.28.3)\n",
      "Requirement already satisfied: requests<3,>=2.21.0 in c:\\users\\*****\\anaconda3\\lib\\site-packages (from tensorflow-intel==2.18.0->tensorflow<2.19,>=2.18->tf-keras) (2.31.0)\n",
      "Requirement already satisfied: setuptools in c:\\users\\*****\\anaconda3\\lib\\site-packages (from tensorflow-intel==2.18.0->tensorflow<2.19,>=2.18->tf-keras) (68.0.0)\n",
      "Requirement already satisfied: six>=1.12.0 in c:\\users\\*****\\anaconda3\\lib\\site-packages (from tensorflow-intel==2.18.0->tensorflow<2.19,>=2.18->tf-keras) (1.16.0)\n",
      "Requirement already satisfied: termcolor>=1.1.0 in c:\\users\\*****\\anaconda3\\lib\\site-packages (from tensorflow-intel==2.18.0->tensorflow<2.19,>=2.18->tf-keras) (2.5.0)\n",
      "Requirement already satisfied: typing-extensions>=3.6.6 in c:\\users\\*****\\anaconda3\\lib\\site-packages (from tensorflow-intel==2.18.0->tensorflow<2.19,>=2.18->tf-keras) (4.12.2)\n",
      "Requirement already satisfied: wrapt>=1.11.0 in c:\\users\\*****\\anaconda3\\lib\\site-packages (from tensorflow-intel==2.18.0->tensorflow<2.19,>=2.18->tf-keras) (1.14.1)\n",
      "Requirement already satisfied: grpcio<2.0,>=1.24.3 in c:\\users\\*****\\anaconda3\\lib\\site-packages (from tensorflow-intel==2.18.0->tensorflow<2.19,>=2.18->tf-keras) (1.67.1)\n",
      "Requirement already satisfied: tensorboard<2.19,>=2.18 in c:\\users\\*****\\anaconda3\\lib\\site-packages (from tensorflow-intel==2.18.0->tensorflow<2.19,>=2.18->tf-keras) (2.18.0)\n",
      "Requirement already satisfied: keras>=3.5.0 in c:\\users\\*****\\anaconda3\\lib\\site-packages (from tensorflow-intel==2.18.0->tensorflow<2.19,>=2.18->tf-keras) (3.8.0)\n",
      "Requirement already satisfied: numpy<2.1.0,>=1.26.0 in c:\\users\\*****\\anaconda3\\lib\\site-packages (from tensorflow-intel==2.18.0->tensorflow<2.19,>=2.18->tf-keras) (1.26.4)\n",
      "Requirement already satisfied: h5py>=3.11.0 in c:\\users\\*****\\anaconda3\\lib\\site-packages (from tensorflow-intel==2.18.0->tensorflow<2.19,>=2.18->tf-keras) (3.12.1)\n",
      "Requirement already satisfied: ml-dtypes<0.5.0,>=0.4.0 in c:\\users\\*****\\anaconda3\\lib\\site-packages (from tensorflow-intel==2.18.0->tensorflow<2.19,>=2.18->tf-keras) (0.4.1)\n",
      "Requirement already satisfied: tensorflow-io-gcs-filesystem>=0.23.1 in c:\\users\\*****\\anaconda3\\lib\\site-packages (from tensorflow-intel==2.18.0->tensorflow<2.19,>=2.18->tf-keras) (0.31.0)\n",
      "Requirement already satisfied: wheel<1.0,>=0.23.0 in c:\\users\\*****\\anaconda3\\lib\\site-packages (from astunparse>=1.6.0->tensorflow-intel==2.18.0->tensorflow<2.19,>=2.18->tf-keras) (0.38.4)\n",
      "Requirement already satisfied: rich in c:\\users\\*****\\anaconda3\\lib\\site-packages (from keras>=3.5.0->tensorflow-intel==2.18.0->tensorflow<2.19,>=2.18->tf-keras) (13.9.4)\n",
      "Requirement already satisfied: namex in c:\\users\\*****\\anaconda3\\lib\\site-packages (from keras>=3.5.0->tensorflow-intel==2.18.0->tensorflow<2.19,>=2.18->tf-keras) (0.0.8)\n",
      "Requirement already satisfied: optree in c:\\users\\*****\\anaconda3\\lib\\site-packages (from keras>=3.5.0->tensorflow-intel==2.18.0->tensorflow<2.19,>=2.18->tf-keras) (0.14.0)\n",
      "Requirement already satisfied: charset-normalizer<4,>=2 in c:\\users\\*****\\anaconda3\\lib\\site-packages (from requests<3,>=2.21.0->tensorflow-intel==2.18.0->tensorflow<2.19,>=2.18->tf-keras) (2.0.4)\n",
      "Requirement already satisfied: idna<4,>=2.5 in c:\\users\\*****\\anaconda3\\lib\\site-packages (from requests<3,>=2.21.0->tensorflow-intel==2.18.0->tensorflow<2.19,>=2.18->tf-keras) (3.4)\n",
      "Requirement already satisfied: urllib3<3,>=1.21.1 in c:\\users\\*****\\anaconda3\\lib\\site-packages (from requests<3,>=2.21.0->tensorflow-intel==2.18.0->tensorflow<2.19,>=2.18->tf-keras) (1.26.16)\n",
      "Requirement already satisfied: certifi>=2017.4.17 in c:\\users\\*****\\anaconda3\\lib\\site-packages (from requests<3,>=2.21.0->tensorflow-intel==2.18.0->tensorflow<2.19,>=2.18->tf-keras) (2024.8.30)\n",
      "Requirement already satisfied: markdown>=2.6.8 in c:\\users\\*****\\anaconda3\\lib\\site-packages (from tensorboard<2.19,>=2.18->tensorflow-intel==2.18.0->tensorflow<2.19,>=2.18->tf-keras) (3.4.1)\n",
      "Requirement already satisfied: tensorboard-data-server<0.8.0,>=0.7.0 in c:\\users\\*****\\anaconda3\\lib\\site-packages (from tensorboard<2.19,>=2.18->tensorflow-intel==2.18.0->tensorflow<2.19,>=2.18->tf-keras) (0.7.2)\n",
      "Requirement already satisfied: werkzeug>=1.0.1 in c:\\users\\*****\\anaconda3\\lib\\site-packages (from tensorboard<2.19,>=2.18->tensorflow-intel==2.18.0->tensorflow<2.19,>=2.18->tf-keras) (2.2.3)\n",
      "Requirement already satisfied: MarkupSafe>=2.1.1 in c:\\users\\*****\\anaconda3\\lib\\site-packages (from werkzeug>=1.0.1->tensorboard<2.19,>=2.18->tensorflow-intel==2.18.0->tensorflow<2.19,>=2.18->tf-keras) (2.1.1)\n",
      "Requirement already satisfied: markdown-it-py>=2.2.0 in c:\\users\\*****\\anaconda3\\lib\\site-packages (from rich->keras>=3.5.0->tensorflow-intel==2.18.0->tensorflow<2.19,>=2.18->tf-keras) (2.2.0)\n",
      "Requirement already satisfied: pygments<3.0.0,>=2.13.0 in c:\\users\\*****\\anaconda3\\lib\\site-packages (from rich->keras>=3.5.0->tensorflow-intel==2.18.0->tensorflow<2.19,>=2.18->tf-keras) (2.15.1)\n",
      "Requirement already satisfied: mdurl~=0.1 in c:\\users\\*****\\anaconda3\\lib\\site-packages (from markdown-it-py>=2.2.0->rich->keras>=3.5.0->tensorflow-intel==2.18.0->tensorflow<2.19,>=2.18->tf-keras) (0.1.0)\n"
     ]
    },
    {
     "name": "stderr",
     "output_type": "stream",
     "text": [
      "WARNING: Ignoring invalid distribution ~onttools (C:\\Users\\*****\\anaconda3\\Lib\\site-packages)\n",
      "WARNING: Ignoring invalid distribution ~onttools (C:\\Users\\*****\\anaconda3\\Lib\\site-packages)\n",
      "WARNING: Ignoring invalid distribution ~onttools (C:\\Users\\*****\\anaconda3\\Lib\\site-packages)\n",
      "\n",
      "[notice] A new release of pip is available: 24.3.1 -> 25.0.1\n",
      "[notice] To update, run: python.exe -m pip install --upgrade pip\n"
     ]
    }
   ],
   "source": [
    "!pip install tf-keras"
   ]
  },
  {
   "cell_type": "code",
   "execution_count": 16,
   "id": "f2a4a2d1",
   "metadata": {},
   "outputs": [],
   "source": [
    "import pandas as pd\n",
    "from transformers import pipeline"
   ]
  },
  {
   "cell_type": "code",
   "execution_count": 17,
   "id": "6affdce9",
   "metadata": {},
   "outputs": [
    {
     "name": "stdout",
     "output_type": "stream",
     "text": [
      "WARNING:tensorflow:From C:\\Users\\*****\\anaconda3\\Lib\\site-packages\\tf_keras\\src\\losses.py:2976: The name tf.losses.sparse_softmax_cross_entropy is deprecated. Please use tf.compat.v1.losses.sparse_softmax_cross_entropy instead.\n",
      "\n"
     ]
    },
    {
     "name": "stderr",
     "output_type": "stream",
     "text": [
      "Device set to use cpu\n"
     ]
    }
   ],
   "source": [
    "# Load pre-trained sentiment analysis pipeline\n",
    "sentiment_pipeline = pipeline(\"sentiment-analysis\", model=\"distilbert-base-uncased-finetuned-sst-2-english\")"
   ]
  },
  {
   "cell_type": "markdown",
   "id": "4861bf4c",
   "metadata": {},
   "source": [
    "DistilBERT model fine-tuned on the Stanford Sentiment Treebank (SST-2) dataset, making it suitable for binary sentiment classification (positive/negative). The model is available in the Hugging Face Transformers library and is automatically downloaded from the Hugging Face Model Hub when used with the pipeline function."
   ]
  },
  {
   "cell_type": "code",
   "execution_count": 18,
   "id": "fa9466d8",
   "metadata": {},
   "outputs": [],
   "source": [
    "# Function to analyze sentiment\n",
    "def get_sentiment(text):\n",
    "    result = sentiment_pipeline(text[:512])[0]  # Truncate to 512 tokens (DistilBERT limit)\n",
    "    sentiment = result['label']\n",
    "    confidence = result['score']\n",
    "    return sentiment, confidence"
   ]
  },
  {
   "cell_type": "code",
   "execution_count": 19,
   "id": "4ac8d1bf",
   "metadata": {},
   "outputs": [],
   "source": [
    "# Apply function to DataFrame\n",
    "df[['New_Sentiment_1', 'New_Confidence_1']] = df['Text'].apply(lambda x: pd.Series(get_sentiment(str(x))))"
   ]
  },
  {
   "cell_type": "code",
   "execution_count": 20,
   "id": "5a4716d4",
   "metadata": {},
   "outputs": [
    {
     "name": "stdout",
     "output_type": "stream",
     "text": [
      "                                               Text        Source  \\\n",
      "0                              I love this product!       Twitter   \n",
      "1                         The service was terrible.  Yelp Reviews   \n",
      "2                            This movie is amazing!          IMDb   \n",
      "3  I'm so disappointed with their customer support.  Online Forum   \n",
      "4                Just had the best meal of my life!   TripAdvisor   \n",
      "\n",
      "          Date_Time      User_ID     Location Sentiment  Confidence_Score  \\\n",
      "0  15-06-2023 09:23     @user123     New York  Positive              0.85   \n",
      "1  15-06-2023 11:45      user456  Los Angeles  Negative              0.65   \n",
      "2  15-06-2023 14:10  moviefan789       London  Positive              0.92   \n",
      "3  15-06-2023 17:35   forumuser1      Toronto  Negative              0.78   \n",
      "4  16-06-2023 08:50     foodie22        Paris  Positive              0.88   \n",
      "\n",
      "  New_Sentiment  New_Confidence New_Sentiment_1  New_Confidence_1  \n",
      "0      Positive          0.6696        POSITIVE          0.999886  \n",
      "1      Negative          0.4767        NEGATIVE          0.999651  \n",
      "2      Positive          0.6239        POSITIVE          0.999882  \n",
      "3      Negative          0.1761        NEGATIVE          0.999811  \n",
      "4      Positive          0.6696        POSITIVE          0.999861  \n"
     ]
    }
   ],
   "source": [
    "# Display updated DataFrame\n",
    "print(df.head())"
   ]
  },
  {
   "cell_type": "markdown",
   "id": "356e7983",
   "metadata": {},
   "source": [
    "'Sentiment' column is given with the dataset which is our ideal output where as 'New_Sentiment_1' is given by distilbert"
   ]
  },
  {
   "cell_type": "code",
   "execution_count": 21,
   "id": "be6f0db4",
   "metadata": {},
   "outputs": [
    {
     "data": {
      "text/html": [
       "<div>\n",
       "<style scoped>\n",
       "    .dataframe tbody tr th:only-of-type {\n",
       "        vertical-align: middle;\n",
       "    }\n",
       "\n",
       "    .dataframe tbody tr th {\n",
       "        vertical-align: top;\n",
       "    }\n",
       "\n",
       "    .dataframe thead th {\n",
       "        text-align: right;\n",
       "    }\n",
       "</style>\n",
       "<table border=\"1\" class=\"dataframe\">\n",
       "  <thead>\n",
       "    <tr style=\"text-align: right;\">\n",
       "      <th></th>\n",
       "      <th>Text</th>\n",
       "      <th>Sentiment</th>\n",
       "      <th>New_Sentiment_1</th>\n",
       "    </tr>\n",
       "  </thead>\n",
       "  <tbody>\n",
       "    <tr>\n",
       "      <th>0</th>\n",
       "      <td>I love this product!</td>\n",
       "      <td>Positive</td>\n",
       "      <td>POSITIVE</td>\n",
       "    </tr>\n",
       "    <tr>\n",
       "      <th>1</th>\n",
       "      <td>The service was terrible.</td>\n",
       "      <td>Negative</td>\n",
       "      <td>NEGATIVE</td>\n",
       "    </tr>\n",
       "    <tr>\n",
       "      <th>2</th>\n",
       "      <td>This movie is amazing!</td>\n",
       "      <td>Positive</td>\n",
       "      <td>POSITIVE</td>\n",
       "    </tr>\n",
       "    <tr>\n",
       "      <th>3</th>\n",
       "      <td>I'm so disappointed with their customer support.</td>\n",
       "      <td>Negative</td>\n",
       "      <td>NEGATIVE</td>\n",
       "    </tr>\n",
       "    <tr>\n",
       "      <th>4</th>\n",
       "      <td>Just had the best meal of my life!</td>\n",
       "      <td>Positive</td>\n",
       "      <td>POSITIVE</td>\n",
       "    </tr>\n",
       "    <tr>\n",
       "      <th>...</th>\n",
       "      <td>...</td>\n",
       "      <td>...</td>\n",
       "      <td>...</td>\n",
       "    </tr>\n",
       "    <tr>\n",
       "      <th>91</th>\n",
       "      <td>Just had the most amazing vacation! I can't wa...</td>\n",
       "      <td>Positive</td>\n",
       "      <td>POSITIVE</td>\n",
       "    </tr>\n",
       "    <tr>\n",
       "      <th>92</th>\n",
       "      <td>The food at this restaurant was awful. Never g...</td>\n",
       "      <td>Negative</td>\n",
       "      <td>NEGATIVE</td>\n",
       "    </tr>\n",
       "    <tr>\n",
       "      <th>93</th>\n",
       "      <td>I can't stop listening to this song. It's my n...</td>\n",
       "      <td>Positive</td>\n",
       "      <td>POSITIVE</td>\n",
       "    </tr>\n",
       "    <tr>\n",
       "      <th>94</th>\n",
       "      <td>Their website is so confusing and poorly desig...</td>\n",
       "      <td>Negative</td>\n",
       "      <td>NEGATIVE</td>\n",
       "    </tr>\n",
       "    <tr>\n",
       "      <th>95</th>\n",
       "      <td>I had an incredible experience at the theme pa...</td>\n",
       "      <td>Positive</td>\n",
       "      <td>POSITIVE</td>\n",
       "    </tr>\n",
       "  </tbody>\n",
       "</table>\n",
       "<p>96 rows × 3 columns</p>\n",
       "</div>"
      ],
      "text/plain": [
       "                                                 Text Sentiment  \\\n",
       "0                                I love this product!  Positive   \n",
       "1                           The service was terrible.  Negative   \n",
       "2                              This movie is amazing!  Positive   \n",
       "3    I'm so disappointed with their customer support.  Negative   \n",
       "4                  Just had the best meal of my life!  Positive   \n",
       "..                                                ...       ...   \n",
       "91  Just had the most amazing vacation! I can't wa...  Positive   \n",
       "92  The food at this restaurant was awful. Never g...  Negative   \n",
       "93  I can't stop listening to this song. It's my n...  Positive   \n",
       "94  Their website is so confusing and poorly desig...  Negative   \n",
       "95  I had an incredible experience at the theme pa...  Positive   \n",
       "\n",
       "   New_Sentiment_1  \n",
       "0         POSITIVE  \n",
       "1         NEGATIVE  \n",
       "2         POSITIVE  \n",
       "3         NEGATIVE  \n",
       "4         POSITIVE  \n",
       "..             ...  \n",
       "91        POSITIVE  \n",
       "92        NEGATIVE  \n",
       "93        POSITIVE  \n",
       "94        NEGATIVE  \n",
       "95        POSITIVE  \n",
       "\n",
       "[96 rows x 3 columns]"
      ]
     },
     "execution_count": 21,
     "metadata": {},
     "output_type": "execute_result"
    }
   ],
   "source": [
    "df[df['Sentiment'] != df['New_Sentiment_1']][['Text','Sentiment','New_Sentiment_1']]"
   ]
  },
  {
   "cell_type": "markdown",
   "id": "57a7bf3f",
   "metadata": {},
   "source": [
    "we have case sensetivity issue here"
   ]
  },
  {
   "cell_type": "code",
   "execution_count": 22,
   "id": "312e5b41",
   "metadata": {},
   "outputs": [],
   "source": [
    "df['New_Sentiment_1'] = df['New_Sentiment_1'].apply(lambda x: 'Positive' if x == 'POSITIVE' else 'Negative' if x == 'NEGATIVE' else x)"
   ]
  },
  {
   "cell_type": "code",
   "execution_count": 23,
   "id": "7132d5a3",
   "metadata": {},
   "outputs": [
    {
     "data": {
      "text/html": [
       "<div>\n",
       "<style scoped>\n",
       "    .dataframe tbody tr th:only-of-type {\n",
       "        vertical-align: middle;\n",
       "    }\n",
       "\n",
       "    .dataframe tbody tr th {\n",
       "        vertical-align: top;\n",
       "    }\n",
       "\n",
       "    .dataframe thead th {\n",
       "        text-align: right;\n",
       "    }\n",
       "</style>\n",
       "<table border=\"1\" class=\"dataframe\">\n",
       "  <thead>\n",
       "    <tr style=\"text-align: right;\">\n",
       "      <th></th>\n",
       "      <th>Text</th>\n",
       "      <th>Sentiment</th>\n",
       "      <th>New_Sentiment_1</th>\n",
       "    </tr>\n",
       "  </thead>\n",
       "  <tbody>\n",
       "    <tr>\n",
       "      <th>20</th>\n",
       "      <td>This movie is a masterpiece! I was blown away.</td>\n",
       "      <td>Positive</td>\n",
       "      <td>Negative</td>\n",
       "    </tr>\n",
       "  </tbody>\n",
       "</table>\n",
       "</div>"
      ],
      "text/plain": [
       "                                              Text Sentiment New_Sentiment_1\n",
       "20  This movie is a masterpiece! I was blown away.  Positive        Negative"
      ]
     },
     "execution_count": 23,
     "metadata": {},
     "output_type": "execute_result"
    }
   ],
   "source": [
    "df[df['Sentiment'] != df['New_Sentiment_1']][['Text','Sentiment','New_Sentiment_1']]"
   ]
  },
  {
   "cell_type": "code",
   "execution_count": null,
   "id": "43453901",
   "metadata": {},
   "outputs": [],
   "source": []
  },
  {
   "cell_type": "code",
   "execution_count": null,
   "id": "660c0b82",
   "metadata": {},
   "outputs": [],
   "source": []
  },
  {
   "cell_type": "code",
   "execution_count": null,
   "id": "2e632cc2",
   "metadata": {},
   "outputs": [],
   "source": []
  },
  {
   "cell_type": "code",
   "execution_count": null,
   "id": "3b2d8dab",
   "metadata": {},
   "outputs": [],
   "source": []
  },
  {
   "cell_type": "code",
   "execution_count": null,
   "id": "501c8b68",
   "metadata": {},
   "outputs": [],
   "source": []
  },
  {
   "cell_type": "markdown",
   "id": "1b94d107",
   "metadata": {},
   "source": [
    "As we compare with the given sentiment with the database we can say, \n",
    "    with vader we could tag 85 correctly out of 96 and with this model 95 are correct, \n"
   ]
  },
  {
   "cell_type": "markdown",
   "id": "db0188cc",
   "metadata": {},
   "source": [
    "# Use a Better Pretrained Model (RoBERTa)"
   ]
  },
  {
   "cell_type": "markdown",
   "id": "0e96a876",
   "metadata": {},
   "source": [
    "### **What is RoBERTa?**  \n",
    "RoBERTa (**Robustly Optimized BERT Pretraining Approach**) is an improved version of **BERT** developed by **Facebook AI**. It enhances BERT by removing the next sentence prediction (NSP) task, increasing training data, and using dynamic masking, leading to better performance on NLP tasks.\n",
    "\n",
    "### **Is RoBERTa Better than DistilBERT for Sentiment Analysis?**  \n",
    "Yes, **RoBERTa is generally better than DistilBERT** for sentiment analysis because:  \n",
    "✅ **More Accurate** – RoBERTa achieves higher accuracy on many NLP benchmarks, including sentiment classification tasks.  \n",
    "✅ **Better Context Understanding** – It captures nuanced sentiment better due to improved training techniques.  \n",
    "✅ **Larger and More Robust** – Unlike DistilBERT, which is a lighter, faster model optimized for efficiency, RoBERTa retains full BERT-like capabilities.  \n",
    "\n",
    "However, **DistilBERT is much faster and lighter** while still providing good accuracy, making it a better choice for real-time or resource-constrained applications. If accuracy is the priority, **RoBERTa is better**; if speed and efficiency are crucial, **DistilBERT is preferable**."
   ]
  },
  {
   "cell_type": "code",
   "execution_count": 25,
   "id": "02b867e5",
   "metadata": {},
   "outputs": [
    {
     "name": "stderr",
     "output_type": "stream",
     "text": [
      "Device set to use cpu\n"
     ]
    }
   ],
   "source": [
    "from transformers import pipeline\n",
    "\n",
    "# Load RoBERTa-based sentiment model (better than DistilBERT)\n",
    "sentiment_pipeline = pipeline(\"sentiment-analysis\", model=\"cardiffnlp/twitter-roberta-base-sentiment\")\n",
    "\n",
    "# Apply sentiment analysis\n",
    "df[['New_Sentiment_2', 'New_Confidence_2']] = df['Text'].apply(lambda x: pd.Series(sentiment_pipeline(str(x[:512]))[0]))\n"
   ]
  },
  {
   "cell_type": "markdown",
   "id": "5378c1a8",
   "metadata": {},
   "source": [
    "'Sentiment' column is given with the dataset which is our ideal output where as 'New_Sentiment_2' is given by RoBERTa"
   ]
  },
  {
   "cell_type": "code",
   "execution_count": 26,
   "id": "e2ee2274",
   "metadata": {},
   "outputs": [
    {
     "data": {
      "text/html": [
       "<div>\n",
       "<style scoped>\n",
       "    .dataframe tbody tr th:only-of-type {\n",
       "        vertical-align: middle;\n",
       "    }\n",
       "\n",
       "    .dataframe tbody tr th {\n",
       "        vertical-align: top;\n",
       "    }\n",
       "\n",
       "    .dataframe thead th {\n",
       "        text-align: right;\n",
       "    }\n",
       "</style>\n",
       "<table border=\"1\" class=\"dataframe\">\n",
       "  <thead>\n",
       "    <tr style=\"text-align: right;\">\n",
       "      <th></th>\n",
       "      <th>Text</th>\n",
       "      <th>Sentiment</th>\n",
       "      <th>New_Sentiment_2</th>\n",
       "    </tr>\n",
       "  </thead>\n",
       "  <tbody>\n",
       "    <tr>\n",
       "      <th>0</th>\n",
       "      <td>I love this product!</td>\n",
       "      <td>Positive</td>\n",
       "      <td>LABEL_2</td>\n",
       "    </tr>\n",
       "    <tr>\n",
       "      <th>1</th>\n",
       "      <td>The service was terrible.</td>\n",
       "      <td>Negative</td>\n",
       "      <td>LABEL_0</td>\n",
       "    </tr>\n",
       "    <tr>\n",
       "      <th>2</th>\n",
       "      <td>This movie is amazing!</td>\n",
       "      <td>Positive</td>\n",
       "      <td>LABEL_2</td>\n",
       "    </tr>\n",
       "    <tr>\n",
       "      <th>3</th>\n",
       "      <td>I'm so disappointed with their customer support.</td>\n",
       "      <td>Negative</td>\n",
       "      <td>LABEL_0</td>\n",
       "    </tr>\n",
       "    <tr>\n",
       "      <th>4</th>\n",
       "      <td>Just had the best meal of my life!</td>\n",
       "      <td>Positive</td>\n",
       "      <td>LABEL_2</td>\n",
       "    </tr>\n",
       "    <tr>\n",
       "      <th>...</th>\n",
       "      <td>...</td>\n",
       "      <td>...</td>\n",
       "      <td>...</td>\n",
       "    </tr>\n",
       "    <tr>\n",
       "      <th>91</th>\n",
       "      <td>Just had the most amazing vacation! I can't wa...</td>\n",
       "      <td>Positive</td>\n",
       "      <td>LABEL_2</td>\n",
       "    </tr>\n",
       "    <tr>\n",
       "      <th>92</th>\n",
       "      <td>The food at this restaurant was awful. Never g...</td>\n",
       "      <td>Negative</td>\n",
       "      <td>LABEL_0</td>\n",
       "    </tr>\n",
       "    <tr>\n",
       "      <th>93</th>\n",
       "      <td>I can't stop listening to this song. It's my n...</td>\n",
       "      <td>Positive</td>\n",
       "      <td>LABEL_2</td>\n",
       "    </tr>\n",
       "    <tr>\n",
       "      <th>94</th>\n",
       "      <td>Their website is so confusing and poorly desig...</td>\n",
       "      <td>Negative</td>\n",
       "      <td>LABEL_0</td>\n",
       "    </tr>\n",
       "    <tr>\n",
       "      <th>95</th>\n",
       "      <td>I had an incredible experience at the theme pa...</td>\n",
       "      <td>Positive</td>\n",
       "      <td>LABEL_2</td>\n",
       "    </tr>\n",
       "  </tbody>\n",
       "</table>\n",
       "<p>96 rows × 3 columns</p>\n",
       "</div>"
      ],
      "text/plain": [
       "                                                 Text Sentiment  \\\n",
       "0                                I love this product!  Positive   \n",
       "1                           The service was terrible.  Negative   \n",
       "2                              This movie is amazing!  Positive   \n",
       "3    I'm so disappointed with their customer support.  Negative   \n",
       "4                  Just had the best meal of my life!  Positive   \n",
       "..                                                ...       ...   \n",
       "91  Just had the most amazing vacation! I can't wa...  Positive   \n",
       "92  The food at this restaurant was awful. Never g...  Negative   \n",
       "93  I can't stop listening to this song. It's my n...  Positive   \n",
       "94  Their website is so confusing and poorly desig...  Negative   \n",
       "95  I had an incredible experience at the theme pa...  Positive   \n",
       "\n",
       "   New_Sentiment_2  \n",
       "0          LABEL_2  \n",
       "1          LABEL_0  \n",
       "2          LABEL_2  \n",
       "3          LABEL_0  \n",
       "4          LABEL_2  \n",
       "..             ...  \n",
       "91         LABEL_2  \n",
       "92         LABEL_0  \n",
       "93         LABEL_2  \n",
       "94         LABEL_0  \n",
       "95         LABEL_2  \n",
       "\n",
       "[96 rows x 3 columns]"
      ]
     },
     "execution_count": 26,
     "metadata": {},
     "output_type": "execute_result"
    }
   ],
   "source": [
    "df[df['Sentiment'] != df['New_Sentiment_2']][['Text','Sentiment','New_Sentiment_2']]"
   ]
  },
  {
   "cell_type": "code",
   "execution_count": 27,
   "id": "82bb4480",
   "metadata": {},
   "outputs": [
    {
     "data": {
      "text/plain": [
       "array(['LABEL_2', 'LABEL_0'], dtype=object)"
      ]
     },
     "execution_count": 27,
     "metadata": {},
     "output_type": "execute_result"
    }
   ],
   "source": [
    "df['New_Sentiment_2'].unique()"
   ]
  },
  {
   "cell_type": "code",
   "execution_count": 28,
   "id": "2a4f1104",
   "metadata": {},
   "outputs": [],
   "source": [
    "df['New_Sentiment_2'] = df['New_Sentiment_2'].apply(lambda x: 'Positive' if x == 'LABEL_2' else 'Negative' if x == 'LABEL_0' else x)"
   ]
  },
  {
   "cell_type": "code",
   "execution_count": 29,
   "id": "92463ef8",
   "metadata": {},
   "outputs": [
    {
     "data": {
      "text/plain": [
       "array(['Positive', 'Negative'], dtype=object)"
      ]
     },
     "execution_count": 29,
     "metadata": {},
     "output_type": "execute_result"
    }
   ],
   "source": [
    "df['New_Sentiment_2'].unique()"
   ]
  },
  {
   "cell_type": "code",
   "execution_count": 30,
   "id": "590fb95f",
   "metadata": {},
   "outputs": [
    {
     "data": {
      "text/html": [
       "<div>\n",
       "<style scoped>\n",
       "    .dataframe tbody tr th:only-of-type {\n",
       "        vertical-align: middle;\n",
       "    }\n",
       "\n",
       "    .dataframe tbody tr th {\n",
       "        vertical-align: top;\n",
       "    }\n",
       "\n",
       "    .dataframe thead th {\n",
       "        text-align: right;\n",
       "    }\n",
       "</style>\n",
       "<table border=\"1\" class=\"dataframe\">\n",
       "  <thead>\n",
       "    <tr style=\"text-align: right;\">\n",
       "      <th></th>\n",
       "      <th>Text</th>\n",
       "      <th>Sentiment</th>\n",
       "      <th>New_Sentiment_2</th>\n",
       "    </tr>\n",
       "  </thead>\n",
       "  <tbody>\n",
       "  </tbody>\n",
       "</table>\n",
       "</div>"
      ],
      "text/plain": [
       "Empty DataFrame\n",
       "Columns: [Text, Sentiment, New_Sentiment_2]\n",
       "Index: []"
      ]
     },
     "execution_count": 30,
     "metadata": {},
     "output_type": "execute_result"
    }
   ],
   "source": [
    "df[df['Sentiment'] != df['New_Sentiment_2']][['Text','Sentiment','New_Sentiment_2']]"
   ]
  },
  {
   "cell_type": "markdown",
   "id": "415f4fe5",
   "metadata": {},
   "source": [
    "# Thats 100% correct tagging.\n",
    "# great! "
   ]
  },
  {
   "cell_type": "code",
   "execution_count": null,
   "id": "18142363",
   "metadata": {},
   "outputs": [],
   "source": []
  },
  {
   "cell_type": "code",
   "execution_count": null,
   "id": "f9a04df9",
   "metadata": {},
   "outputs": [],
   "source": []
  },
  {
   "cell_type": "markdown",
   "id": "6350acd8",
   "metadata": {},
   "source": [
    "# Use an Ensemble Approach "
   ]
  },
  {
   "cell_type": "markdown",
   "id": "db8174b9",
   "metadata": {},
   "source": [
    "If both models agree, it’s likely correct.\n",
    "If they disagree, it chooses the more confident one.\n",
    "Boosts accuracy by combining strengths of both models."
   ]
  },
  {
   "cell_type": "code",
   "execution_count": 33,
   "id": "e41270ab",
   "metadata": {},
   "outputs": [
    {
     "name": "stderr",
     "output_type": "stream",
     "text": [
      "Device set to use cpu\n",
      "Device set to use cpu\n"
     ]
    }
   ],
   "source": [
    "bert_model = pipeline(\"sentiment-analysis\", model=\"distilbert-base-uncased-finetuned-sst-2-english\")\n",
    "roberta_model = pipeline(\"sentiment-analysis\", model=\"cardiffnlp/twitter-roberta-base-sentiment\")\n",
    "\n",
    "def ensemble_sentiment(text):\n",
    "    bert_result = bert_model(text[:512])[0]\n",
    "    roberta_result = roberta_model(text[:512])[0]\n",
    "\n",
    "    # If both models agree, use that result\n",
    "    if bert_result['label'] == roberta_result['label']:\n",
    "        return bert_result['label'], (bert_result['score'] + roberta_result['score']) / 2\n",
    "    \n",
    "    # Otherwise, choose the one with higher confidence\n",
    "    return (bert_result['label'], bert_result['score']) if bert_result['score'] > roberta_result['score'] else (roberta_result['label'], roberta_result['score'])\n",
    "\n",
    "df[['New_Sentiment_3', 'New_Confidence_3']] = df['Text'].apply(lambda x: pd.Series(ensemble_sentiment(str(x))))\n"
   ]
  },
  {
   "cell_type": "code",
   "execution_count": 34,
   "id": "7d96ced2",
   "metadata": {},
   "outputs": [
    {
     "data": {
      "text/html": [
       "<div>\n",
       "<style scoped>\n",
       "    .dataframe tbody tr th:only-of-type {\n",
       "        vertical-align: middle;\n",
       "    }\n",
       "\n",
       "    .dataframe tbody tr th {\n",
       "        vertical-align: top;\n",
       "    }\n",
       "\n",
       "    .dataframe thead th {\n",
       "        text-align: right;\n",
       "    }\n",
       "</style>\n",
       "<table border=\"1\" class=\"dataframe\">\n",
       "  <thead>\n",
       "    <tr style=\"text-align: right;\">\n",
       "      <th></th>\n",
       "      <th>Text</th>\n",
       "      <th>Sentiment</th>\n",
       "      <th>New_Sentiment_3</th>\n",
       "    </tr>\n",
       "  </thead>\n",
       "  <tbody>\n",
       "    <tr>\n",
       "      <th>0</th>\n",
       "      <td>I love this product!</td>\n",
       "      <td>Positive</td>\n",
       "      <td>POSITIVE</td>\n",
       "    </tr>\n",
       "    <tr>\n",
       "      <th>1</th>\n",
       "      <td>The service was terrible.</td>\n",
       "      <td>Negative</td>\n",
       "      <td>NEGATIVE</td>\n",
       "    </tr>\n",
       "    <tr>\n",
       "      <th>2</th>\n",
       "      <td>This movie is amazing!</td>\n",
       "      <td>Positive</td>\n",
       "      <td>POSITIVE</td>\n",
       "    </tr>\n",
       "    <tr>\n",
       "      <th>3</th>\n",
       "      <td>I'm so disappointed with their customer support.</td>\n",
       "      <td>Negative</td>\n",
       "      <td>NEGATIVE</td>\n",
       "    </tr>\n",
       "    <tr>\n",
       "      <th>4</th>\n",
       "      <td>Just had the best meal of my life!</td>\n",
       "      <td>Positive</td>\n",
       "      <td>POSITIVE</td>\n",
       "    </tr>\n",
       "    <tr>\n",
       "      <th>...</th>\n",
       "      <td>...</td>\n",
       "      <td>...</td>\n",
       "      <td>...</td>\n",
       "    </tr>\n",
       "    <tr>\n",
       "      <th>91</th>\n",
       "      <td>Just had the most amazing vacation! I can't wa...</td>\n",
       "      <td>Positive</td>\n",
       "      <td>POSITIVE</td>\n",
       "    </tr>\n",
       "    <tr>\n",
       "      <th>92</th>\n",
       "      <td>The food at this restaurant was awful. Never g...</td>\n",
       "      <td>Negative</td>\n",
       "      <td>NEGATIVE</td>\n",
       "    </tr>\n",
       "    <tr>\n",
       "      <th>93</th>\n",
       "      <td>I can't stop listening to this song. It's my n...</td>\n",
       "      <td>Positive</td>\n",
       "      <td>POSITIVE</td>\n",
       "    </tr>\n",
       "    <tr>\n",
       "      <th>94</th>\n",
       "      <td>Their website is so confusing and poorly desig...</td>\n",
       "      <td>Negative</td>\n",
       "      <td>NEGATIVE</td>\n",
       "    </tr>\n",
       "    <tr>\n",
       "      <th>95</th>\n",
       "      <td>I had an incredible experience at the theme pa...</td>\n",
       "      <td>Positive</td>\n",
       "      <td>POSITIVE</td>\n",
       "    </tr>\n",
       "  </tbody>\n",
       "</table>\n",
       "<p>96 rows × 3 columns</p>\n",
       "</div>"
      ],
      "text/plain": [
       "                                                 Text Sentiment  \\\n",
       "0                                I love this product!  Positive   \n",
       "1                           The service was terrible.  Negative   \n",
       "2                              This movie is amazing!  Positive   \n",
       "3    I'm so disappointed with their customer support.  Negative   \n",
       "4                  Just had the best meal of my life!  Positive   \n",
       "..                                                ...       ...   \n",
       "91  Just had the most amazing vacation! I can't wa...  Positive   \n",
       "92  The food at this restaurant was awful. Never g...  Negative   \n",
       "93  I can't stop listening to this song. It's my n...  Positive   \n",
       "94  Their website is so confusing and poorly desig...  Negative   \n",
       "95  I had an incredible experience at the theme pa...  Positive   \n",
       "\n",
       "   New_Sentiment_3  \n",
       "0         POSITIVE  \n",
       "1         NEGATIVE  \n",
       "2         POSITIVE  \n",
       "3         NEGATIVE  \n",
       "4         POSITIVE  \n",
       "..             ...  \n",
       "91        POSITIVE  \n",
       "92        NEGATIVE  \n",
       "93        POSITIVE  \n",
       "94        NEGATIVE  \n",
       "95        POSITIVE  \n",
       "\n",
       "[96 rows x 3 columns]"
      ]
     },
     "execution_count": 34,
     "metadata": {},
     "output_type": "execute_result"
    }
   ],
   "source": [
    "df[df['Sentiment'] != df['New_Sentiment_3']][['Text','Sentiment','New_Sentiment_3']]"
   ]
  },
  {
   "cell_type": "code",
   "execution_count": 35,
   "id": "03d408c7",
   "metadata": {},
   "outputs": [],
   "source": [
    "df['New_Sentiment_3'] = df['New_Sentiment_3'].apply(lambda x: 'Positive' if x == 'POSITIVE' else 'Negative' if x == 'NEGATIVE' else x)"
   ]
  },
  {
   "cell_type": "code",
   "execution_count": 36,
   "id": "6031c175",
   "metadata": {},
   "outputs": [],
   "source": [
    "df['New_Sentiment_3'] = df['New_Sentiment_3'].apply(lambda x: 'Positive' if x == 'LABEL_2' else 'Negative' if x == 'LABEL_0' else x)"
   ]
  },
  {
   "cell_type": "markdown",
   "id": "81848b27",
   "metadata": {},
   "source": [
    "'Sentiment' column is given with the dataset which is our ideal output where as 'New_Sentiment_3' is given by ensemble approach"
   ]
  },
  {
   "cell_type": "code",
   "execution_count": 37,
   "id": "be1094f8",
   "metadata": {},
   "outputs": [
    {
     "data": {
      "text/html": [
       "<div>\n",
       "<style scoped>\n",
       "    .dataframe tbody tr th:only-of-type {\n",
       "        vertical-align: middle;\n",
       "    }\n",
       "\n",
       "    .dataframe tbody tr th {\n",
       "        vertical-align: top;\n",
       "    }\n",
       "\n",
       "    .dataframe thead th {\n",
       "        text-align: right;\n",
       "    }\n",
       "</style>\n",
       "<table border=\"1\" class=\"dataframe\">\n",
       "  <thead>\n",
       "    <tr style=\"text-align: right;\">\n",
       "      <th></th>\n",
       "      <th>Text</th>\n",
       "      <th>Sentiment</th>\n",
       "      <th>New_Sentiment_3</th>\n",
       "    </tr>\n",
       "  </thead>\n",
       "  <tbody>\n",
       "  </tbody>\n",
       "</table>\n",
       "</div>"
      ],
      "text/plain": [
       "Empty DataFrame\n",
       "Columns: [Text, Sentiment, New_Sentiment_3]\n",
       "Index: []"
      ]
     },
     "execution_count": 37,
     "metadata": {},
     "output_type": "execute_result"
    }
   ],
   "source": [
    "df[df['Sentiment'] != df['New_Sentiment_3']][['Text','Sentiment','New_Sentiment_3']]"
   ]
  },
  {
   "cell_type": "markdown",
   "id": "b41f5ff9",
   "metadata": {},
   "source": [
    "# 100% correct tagging, matching with ideal output"
   ]
  },
  {
   "cell_type": "code",
   "execution_count": null,
   "id": "f5bb2eab",
   "metadata": {},
   "outputs": [],
   "source": []
  },
  {
   "cell_type": "code",
   "execution_count": null,
   "id": "f4bbe0fa",
   "metadata": {},
   "outputs": [],
   "source": []
  },
  {
   "cell_type": "code",
   "execution_count": null,
   "id": "a09ca89d",
   "metadata": {},
   "outputs": [],
   "source": []
  },
  {
   "cell_type": "code",
   "execution_count": null,
   "id": "2060ab0a",
   "metadata": {},
   "outputs": [],
   "source": []
  },
  {
   "cell_type": "code",
   "execution_count": null,
   "id": "0cbe886e",
   "metadata": {},
   "outputs": [],
   "source": []
  },
  {
   "cell_type": "code",
   "execution_count": null,
   "id": "30d5c38d",
   "metadata": {},
   "outputs": [],
   "source": []
  },
  {
   "cell_type": "code",
   "execution_count": null,
   "id": "6870ae26",
   "metadata": {},
   "outputs": [],
   "source": []
  },
  {
   "cell_type": "code",
   "execution_count": null,
   "id": "c02939a2",
   "metadata": {},
   "outputs": [],
   "source": []
  },
  {
   "cell_type": "code",
   "execution_count": null,
   "id": "ee67f067",
   "metadata": {},
   "outputs": [],
   "source": []
  },
  {
   "cell_type": "code",
   "execution_count": null,
   "id": "2ac3a77b",
   "metadata": {},
   "outputs": [],
   "source": []
  },
  {
   "cell_type": "code",
   "execution_count": null,
   "id": "ec68beea",
   "metadata": {},
   "outputs": [],
   "source": []
  },
  {
   "cell_type": "code",
   "execution_count": null,
   "id": "e8190890",
   "metadata": {},
   "outputs": [],
   "source": []
  },
  {
   "cell_type": "code",
   "execution_count": null,
   "id": "02671e57",
   "metadata": {},
   "outputs": [],
   "source": []
  }
 ],
 "metadata": {
  "kernelspec": {
   "display_name": "Python 3 (ipykernel)",
   "language": "python",
   "name": "python3"
  },
  "language_info": {
   "codemirror_mode": {
    "name": "ipython",
    "version": 3
   },
   "file_extension": ".py",
   "mimetype": "text/x-python",
   "name": "python",
   "nbconvert_exporter": "python",
   "pygments_lexer": "ipython3",
   "version": "3.11.5"
  }
 },
 "nbformat": 4,
 "nbformat_minor": 5
}
